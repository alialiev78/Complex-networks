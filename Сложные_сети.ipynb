{
  "nbformat": 4,
  "nbformat_minor": 0,
  "metadata": {
    "colab": {
      "provenance": []
    },
    "kernelspec": {
      "name": "python3",
      "display_name": "Python 3"
    },
    "language_info": {
      "name": "python"
    }
  },
  "cells": [
    {
      "cell_type": "code",
      "execution_count": null,
      "metadata": {
        "colab": {
          "base_uri": "https://localhost:8080/"
        },
        "id": "tJcfRuUp4q-y",
        "outputId": "d7fd3063-57fc-48c6-9e45-e38235b46095"
      },
      "outputs": [
        {
          "output_type": "stream",
          "name": "stdout",
          "text": [
            "Requirement already satisfied: networkx in /usr/local/lib/python3.10/dist-packages (3.2.1)\n"
          ]
        }
      ],
      "source": [
        "!pip install networkx\n"
      ]
    },
    {
      "cell_type": "code",
      "source": [
        "import networkx as nx\n",
        "\n",
        "G = nx.Graph()\n",
        "print(G)"
      ],
      "metadata": {
        "colab": {
          "base_uri": "https://localhost:8080/"
        },
        "id": "Gu9X-BiC49mU",
        "outputId": "9e60898f-f0d3-4681-d36c-f3993a20f14d"
      },
      "execution_count": null,
      "outputs": [
        {
          "output_type": "stream",
          "name": "stdout",
          "text": [
            "Graph with 0 nodes and 0 edges\n"
          ]
        }
      ]
    },
    {
      "cell_type": "code",
      "source": [
        "G.add_node(\"1\")\n",
        "G.add_node(\"2\")\n",
        "G.add_node(\"3\")\n",
        "G.add_node(\"4\")\n",
        "G.add_node(\"5\")\n",
        "G.add_node(\"6\")"
      ],
      "metadata": {
        "id": "hzKBG5P34-VT"
      },
      "execution_count": null,
      "outputs": []
    },
    {
      "cell_type": "code",
      "source": [
        "print(G)"
      ],
      "metadata": {
        "colab": {
          "base_uri": "https://localhost:8080/"
        },
        "id": "EpXEPaYr4-Xl",
        "outputId": "547cc2dc-b146-40e5-eb21-208236f8e0da"
      },
      "execution_count": null,
      "outputs": [
        {
          "output_type": "stream",
          "name": "stdout",
          "text": [
            "Graph with 6 nodes and 0 edges\n"
          ]
        }
      ]
    },
    {
      "cell_type": "code",
      "source": [
        "G.add_edges_from(\n",
        "    [\n",
        "        (\"1\",\"3\"),\n",
        "        (\"2\",\"3\"),\n",
        "        (\"3\",\"4\"),\n",
        "        (\"3\",\"5\"),\n",
        "        (\"3\",\"6\"),\n",
        "        (\"4\",\"6\"),\n",
        "        (\"5\",\"6\"),\n",
        "    ]\n",
        ")"
      ],
      "metadata": {
        "id": "7QSX3r7q4-aP"
      },
      "execution_count": null,
      "outputs": []
    },
    {
      "cell_type": "code",
      "source": [
        "print(G)"
      ],
      "metadata": {
        "colab": {
          "base_uri": "https://localhost:8080/"
        },
        "id": "0n4I5E8L4-cp",
        "outputId": "752b580c-edbe-4a9b-b9f3-8337c95d801a"
      },
      "execution_count": null,
      "outputs": [
        {
          "output_type": "stream",
          "name": "stdout",
          "text": [
            "Graph with 6 nodes and 7 edges\n"
          ]
        }
      ]
    },
    {
      "cell_type": "code",
      "source": [
        "nx.draw(G, with_labels = True)"
      ],
      "metadata": {
        "colab": {
          "base_uri": "https://localhost:8080/",
          "height": 516
        },
        "id": "x8TlWgfw5wtn",
        "outputId": "d9b7662d-2992-481a-ddf7-d0213f587130"
      },
      "execution_count": null,
      "outputs": [
        {
          "output_type": "display_data",
          "data": {
            "text/plain": [
              "<Figure size 640x480 with 1 Axes>"
            ],
            "image/png": "[encoded data removed]"
          },
          "metadata": {}
        }
      ]
    },
    {
      "cell_type": "code",
      "source": [
        "nx.betweenness_centrality(G)\n",
        "#  normalized=False"
      ],
      "metadata": {
        "colab": {
          "base_uri": "https://localhost:8080/"
        },
        "id": "FpFboWp550Zh",
        "outputId": "0f4fc781-658e-4f94-ad92-c41660e8bacf"
      },
      "execution_count": null,
      "outputs": [
        {
          "output_type": "execute_result",
          "data": {
            "text/plain": [
              "{'1': 0.0, '2': 0.0, '3': 0.75, '4': 0.0, '5': 0.0, '6': 0.05}"
            ]
          },
          "metadata": {},
          "execution_count": 9
        }
      ]
    },
    {
      "cell_type": "code",
      "source": [
        "nx.closeness_centrality(G, wf_improved=False)"
      ],
      "metadata": {
        "colab": {
          "base_uri": "https://localhost:8080/"
        },
        "id": "uRuLHOVU6V4W",
        "outputId": "71f0a25f-b87d-4f81-ef63-b4ade515bcf7"
      },
      "execution_count": null,
      "outputs": [
        {
          "output_type": "execute_result",
          "data": {
            "text/plain": [
              "{'1': 0.5555555555555556,\n",
              " '2': 0.5555555555555556,\n",
              " '3': 1.0,\n",
              " '4': 0.625,\n",
              " '5': 0.625,\n",
              " '6': 0.7142857142857143}"
            ]
          },
          "metadata": {},
          "execution_count": 10
        }
      ]
    },
    {
      "cell_type": "code",
      "source": [
        "nx.eigenvector_centrality(G)"
      ],
      "metadata": {
        "colab": {
          "base_uri": "https://localhost:8080/"
        },
        "id": "9ss4qcY86-9N",
        "outputId": "7c49934e-8885-43f4-f30e-57f8d08194ff"
      },
      "execution_count": null,
      "outputs": [
        {
          "output_type": "execute_result",
          "data": {
            "text/plain": [
              "{'1': 0.21449715809945016,\n",
              " '2': 0.21449715809945016,\n",
              " '3': 0.6035089395413371,\n",
              " '4': 0.3890117694022258,\n",
              " '5': 0.3890117694022258,\n",
              " '6': 0.49101790676237944}"
            ]
          },
          "metadata": {},
          "execution_count": 12
        }
      ]
    },
    {
      "cell_type": "code",
      "source": [],
      "metadata": {
        "id": "zjMToqSb7Hc7"
      },
      "execution_count": null,
      "outputs": []
    }
  ]
}